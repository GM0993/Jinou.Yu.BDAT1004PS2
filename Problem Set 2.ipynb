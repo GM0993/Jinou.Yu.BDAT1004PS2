{
 "cells": [
  {
   "cell_type": "markdown",
   "metadata": {},
   "source": [
    "# Problem Set 2"
   ]
  },
  {
   "cell_type": "markdown",
   "metadata": {},
   "source": [
    "# Quesiton 1. What value is displayed when the last expression (a) is evaluated? Explain your answer by indicating what happens in every executed statement."
   ]
  },
  {
   "cell_type": "markdown",
   "metadata": {},
   "source": [
    "a= 0\n",
    "def b():\n",
    "    global a\n",
    "    a = c(a)\n",
    "\n",
    "def c(a):\n",
    "    return a+2"
   ]
  },
  {
   "cell_type": "markdown",
   "metadata": {},
   "source": [
    "b() # In the first time of execution, function b re-identify the global variable \"a\", which is the result of function c(a) and leads to the first time execution of function c(a), which return a+2, in this case, is 0+2 = 2. This global value of a is stored in function c. "
   ]
  },
  {
   "cell_type": "code",
   "execution_count": null,
   "metadata": {},
   "outputs": [],
   "source": [
    "a   "
   ]
  },
  {
   "cell_type": "markdown",
   "metadata": {},
   "source": [
    "b() # In the second time of execution, again, the execution of function b was delivered back to function, which return a+2, which is 2+2=4 this time. The result was updated and stored in funciton c"
   ]
  },
  {
   "cell_type": "code",
   "execution_count": null,
   "metadata": {},
   "outputs": [],
   "source": [
    "a   "
   ]
  },
  {
   "cell_type": "markdown",
   "metadata": {},
   "source": [
    "b() # In the third time of execution, the execution of function b leads to the execution of function c, which add 2 on the previous result of 4, which return a new \"a\" with value 6. The new value of variable \"a\" was stored in function c."
   ]
  },
  {
   "cell_type": "code",
   "execution_count": 13,
   "metadata": {},
   "outputs": [
    {
     "data": {
      "text/plain": [
       "6"
      ]
     },
     "execution_count": 13,
     "metadata": {},
     "output_type": "execute_result"
    }
   ],
   "source": [
    "a "
   ]
  },
  {
   "cell_type": "markdown",
   "metadata": {},
   "source": [
    "# Question 2. "
   ]
  },
  {
   "cell_type": "markdown",
   "metadata": {},
   "source": [
    "import os\n",
    "os.chdir('C:/Users/yjoco/Python Save')\n",
    "\n",
    "def fileLength(filename):\n",
    "    try: \n",
    "        infile = open (filename)\n",
    "        strfile = infile.readlines()\n",
    "        filelength = len(strfile)\n",
    "        return filelength\n",
    "    except:\n",
    "        print('File {} not found.'.format(filename))"
   ]
  },
  {
   "cell_type": "code",
   "execution_count": 29,
   "metadata": {},
   "outputs": [
    {
     "name": "stdout",
     "output_type": "stream",
     "text": [
      "File idterm.py not found.\n"
     ]
    }
   ],
   "source": [
    "fileLength('idterm.py')"
   ]
  },
  {
   "cell_type": "markdown",
   "metadata": {},
   "source": [
    "# Question 3."
   ]
  },
  {
   "cell_type": "markdown",
   "metadata": {},
   "source": [
    "class Marsupial():\n",
    "    lst = []\n",
    "    def __init__(self,x=0,y=0):\n",
    "        self.lst = []\n",
    "        self.x = x\n",
    "        self.y = y\n",
    "        \n",
    "    def put_in_pouch(self,word):\n",
    "        self.lst.append(word)\n",
    "        \n",
    "    def pouch_contents(self):\n",
    "        return self.lst\n",
    "\n",
    "class Kangaroo(Marsupial):\n",
    "    def jump(self, dx, dy):\n",
    "        self.x += dx\n",
    "        self.y += dy\n",
    "    \n",
    "    def __str__(self):\n",
    "        return ('I am a Kangaroo located at coordinates ({}, {})'.format(self.x, self.y))\n",
    "    "
   ]
  },
  {
   "cell_type": "code",
   "execution_count": 88,
   "metadata": {},
   "outputs": [
    {
     "data": {
      "text/plain": [
       "['doll', 'firetruck', 'kitten']"
      ]
     },
     "execution_count": 88,
     "metadata": {},
     "output_type": "execute_result"
    }
   ],
   "source": [
    "m = Marsupial()\n",
    "m.put_in_pouch('doll')\n",
    "m.put_in_pouch('firetruck')\n",
    "m.put_in_pouch('kitten')\n",
    "m.pouch_contents()"
   ]
  },
  {
   "cell_type": "code",
   "execution_count": 89,
   "metadata": {},
   "outputs": [
    {
     "name": "stdout",
     "output_type": "stream",
     "text": [
      "I am a Kangaroo located at coordinates (0, 0)\n"
     ]
    }
   ],
   "source": [
    "k = Kangaroo(0,0)\n",
    "print (k)"
   ]
  },
  {
   "cell_type": "code",
   "execution_count": 90,
   "metadata": {},
   "outputs": [
    {
     "data": {
      "text/plain": [
       "['doll', 'firetruck', 'kitten']"
      ]
     },
     "execution_count": 90,
     "metadata": {},
     "output_type": "execute_result"
    }
   ],
   "source": [
    "k.put_in_pouch('doll')\n",
    "k.put_in_pouch('firetruck')\n",
    "k.put_in_pouch('kitten')\n",
    "k.pouch_contents()"
   ]
  },
  {
   "cell_type": "code",
   "execution_count": 91,
   "metadata": {},
   "outputs": [
    {
     "name": "stdout",
     "output_type": "stream",
     "text": [
      "I am a Kangaroo located at coordinates (3, 0)\n"
     ]
    }
   ],
   "source": [
    "k.jump(1,0)\n",
    "k.jump(1,0)\n",
    "k.jump(1,0)\n",
    "print(k)"
   ]
  },
  {
   "cell_type": "markdown",
   "metadata": {},
   "source": [
    "# Question 4. Calculator and Mortgage"
   ]
  },
  {
   "cell_type": "markdown",
   "metadata": {},
   "source": [
    "from tkinter import *\n",
    "app = Tk()\n",
    "\n",
    "label1 = Label(app, text = 'Loan Amount:', anchor = 'center')\n",
    "label1.place (x=0, y=90, width = 200, height = 70)\n",
    "\n",
    "dataEnt1 = Label(app, relief = RAISED)\n",
    "dataEnt1.place ( x = 210, y = 90, width = 270, height = 70)\n",
    "\n",
    "label2 = Label(app, text = 'Interest rate:', anchor = 'center')\n",
    "label2.place (x=0, y=170, width = 200, height = 70)\n",
    "\n",
    "dataEnt2 = Label (app, relief = RAISED)\n",
    "dataEnt2.place ( x = 210, y = 170, width = 270, height = 70)\n",
    "\n",
    "label3 = Label(app, text = 'Loan term:', anchor = 'center')\n",
    "label3.place (x=0, y=250, width = 200, height = 70)\n",
    "\n",
    "dataEnt3 = Label (app, relief = RAISED)\n",
    "dataEnt3.place ( x = 210, y = 250, width = 270, height = 70)\n",
    "\n",
    "label4 = Label(app, text = 'Compute mortgage:', anchor = 'center')\n",
    "label4.place (x=0, y=330, width = 200, height = 70)\n",
    "\n",
    "dataEnt4 = Label (app, relief = RAISED)\n",
    "dataEnt4.place ( x = 210, y = 330, width = 270, height = 70)\n",
    "\n",
    "\n",
    "\n",
    "button_txt = [['MC','M+','M-','Mr'],\n",
    "              ['C','√','x^2','+'],\n",
    "              ['7','8','9','-'],\n",
    "              ['4','5','6','*'],\n",
    "              ['1','2','3','/'],\n",
    "              ['0','.','+-','=']]\n",
    "\n",
    "display = Label(app, relief = 'ridge', font = ('April', '15'), anchor = E)\n",
    "display.place (x=500,y=0,width = 400, height = 60)\n",
    "\n",
    "for r in range (6):\n",
    "    for c in range (4):\n",
    "        button = Label(app, relief = RAISED, padx = 10, text = labels[r][c])\n",
    "        button.grid(row =r, column =c)\n",
    "        button.place(x=(500+100*c), y = 60*r+60, width=100, height=60)\n",
    "        \n",
    "app.mainloop()"
   ]
  },
  {
   "cell_type": "markdown",
   "metadata": {},
   "source": [
    "# Question 5:"
   ]
  },
  {
   "cell_type": "markdown",
   "metadata": {},
   "source": [
    "def collatz(x):\n",
    "    print (x,end = ' ')\n",
    "    if x%2 == 1:\n",
    "        if x != 1:\n",
    "            x = int(3*x +1)\n",
    "            collatz(x)\n",
    "    else:\n",
    "        x = int(x/2)\n",
    "        collatz(x)"
   ]
  },
  {
   "cell_type": "code",
   "execution_count": 76,
   "metadata": {},
   "outputs": [
    {
     "name": "stdout",
     "output_type": "stream",
     "text": [
      "10 5 16 8 4 2 1 "
     ]
    }
   ],
   "source": [
    "collatz(10)"
   ]
  },
  {
   "cell_type": "markdown",
   "metadata": {},
   "source": [
    "# Question 6:"
   ]
  },
  {
   "cell_type": "markdown",
   "metadata": {},
   "source": [
    "b = []\n",
    "def binary (n):\n",
    "    if n == 0:\n",
    "        print(0)\n",
    "    elif n == 1:\n",
    "        b.append(str(1))\n",
    "        b.reverse()\n",
    "        c= ''.join(b)\n",
    "        print (c)\n",
    "        b.clear()\n",
    "    elif n!=1:\n",
    "        a = n%2\n",
    "        b.append(str(a))\n",
    "        n = n//2\n",
    "        binary (n)"
   ]
  },
  {
   "cell_type": "code",
   "execution_count": 117,
   "metadata": {},
   "outputs": [
    {
     "name": "stdout",
     "output_type": "stream",
     "text": [
      "0\n"
     ]
    }
   ],
   "source": [
    "binary(0)"
   ]
  },
  {
   "cell_type": "code",
   "execution_count": 118,
   "metadata": {},
   "outputs": [
    {
     "name": "stdout",
     "output_type": "stream",
     "text": [
      "1\n"
     ]
    }
   ],
   "source": [
    "binary(1)"
   ]
  },
  {
   "cell_type": "code",
   "execution_count": 119,
   "metadata": {},
   "outputs": [
    {
     "name": "stdout",
     "output_type": "stream",
     "text": [
      "11\n"
     ]
    }
   ],
   "source": [
    "binary(3)"
   ]
  },
  {
   "cell_type": "code",
   "execution_count": 120,
   "metadata": {},
   "outputs": [
    {
     "name": "stdout",
     "output_type": "stream",
     "text": [
      "1001\n"
     ]
    }
   ],
   "source": [
    "binary(9)"
   ]
  },
  {
   "cell_type": "markdown",
   "metadata": {},
   "source": [
    "# Question 7:"
   ]
  },
  {
   "cell_type": "markdown",
   "metadata": {},
   "source": [
    "import os\n",
    "import re\n",
    "os.chdir('C:/Users/yjoco/Python Save')\n",
    "from html.parser import HTMLParser\n",
    "class HeadingParser(HTMLParser):\n",
    "    def __init__(self):\n",
    "        HTMLParser.__init__(self)\n",
    "        self.indent=0\n",
    "        self.header = False\n",
    "        self.b = 0\n",
    "        \n",
    "    def handle_starttag(self, tag, attrs):\n",
    "        if tag == 'h1' or tag == 'h2':\n",
    "            self.header = True\n",
    "            self.b = re.findall(r'\\d+',tag)\n",
    "            self.indent += int(self.b[0])-1\n",
    "            \n",
    "    def handle_data(self, data):\n",
    "        if self.header == True:\n",
    "            print('{}{}'.format(self.indent*' ', data))\n",
    "\n",
    "    def handle_endtag(self, tag):\n",
    "        if tag == 'h1' or tag == 'h2':\n",
    "            self.header = False                  "
   ]
  },
  {
   "cell_type": "code",
   "execution_count": 93,
   "metadata": {},
   "outputs": [
    {
     "name": "stdout",
     "output_type": "stream",
     "text": [
      "W3C Mission\n",
      " Principles\n"
     ]
    }
   ],
   "source": [
    "from html.parser import HTMLParser\n",
    "infile = open ('w3c.txt','r')\n",
    "content = infile.read()\n",
    "infile.close()\n",
    "hp = HeadingParser()\n",
    "hp.feed(content)"
   ]
  },
  {
   "cell_type": "markdown",
   "metadata": {},
   "source": [
    "# Question 8:"
   ]
  },
  {
   "cell_type": "markdown",
   "metadata": {},
   "source": [
    "visited = set()\n",
    "def analyze(url):\n",
    "    content = urlopen(url).read().decode()\n",
    "    collector = Collector(url)\n",
    "    collector.feed(content)\n",
    "    urls = collector.getLinks()\n",
    "    return urls\n",
    "\n",
    "def webdir(url, depth, indent):\n",
    "    global visited\n",
    "    visited.add(url)\n",
    "    links = analyze(url)\n",
    "    for link in links:\n",
    "        if link not in visited: \n",
    "            try:\n",
    "                webdir(link)\n",
    "            except:\n",
    "                pass\n",
    "            print ('{}{}'.format(indent*depth*' ',link))"
   ]
  },
  {
   "cell_type": "code",
   "execution_count": null,
   "metadata": {},
   "outputs": [],
   "source": [
    "webdir('https://posts.careerengine.us/p/56c0154a85989bbc37893805',2,1)"
   ]
  },
  {
   "cell_type": "markdown",
   "metadata": {},
   "source": [
    "# Question 9: Write SQL queries on the below database table that return:"
   ]
  },
  {
   "cell_type": "code",
   "execution_count": null,
   "metadata": {},
   "outputs": [],
   "source": [
    "# (a). All the temperature data.\n",
    "# select Temperature (C) from A2;"
   ]
  },
  {
   "cell_type": "code",
   "execution_count": null,
   "metadata": {},
   "outputs": [],
   "source": [
    "# (b). All the cities, but without repetition.\n",
    "# select distinct City from A2;"
   ]
  },
  {
   "cell_type": "code",
   "execution_count": null,
   "metadata": {},
   "outputs": [],
   "source": [
    "# (c). All the records for India.\n",
    "# select City from A2 where Country = 'India';"
   ]
  },
  {
   "cell_type": "code",
   "execution_count": null,
   "metadata": {},
   "outputs": [],
   "source": [
    "# (d). All the Fall records.\n",
    "# select * from A2 where Season = 'Fall';"
   ]
  },
  {
   "cell_type": "code",
   "execution_count": null,
   "metadata": {},
   "outputs": [],
   "source": [
    "# (e). The city, country, and season for which the average rainfall is between 200 and 400 millimeters.\n",
    "# select City, Country, Season from A2 where Rainfall(mm) between 200 and 400;"
   ]
  },
  {
   "cell_type": "code",
   "execution_count": null,
   "metadata": {},
   "outputs": [],
   "source": [
    "# (f). The city and country for which the average Fall temperature is above 20 degrees, in increasing temperature order.\n",
    "# select City, Country from A2 where Rainfall(mm) > 20 order by Temperature (C) asc;"
   ]
  },
  {
   "cell_type": "code",
   "execution_count": null,
   "metadata": {},
   "outputs": [],
   "source": [
    "# (g). The total annual rainfall for Cairo.\n",
    "# select sum(Rainfall(mm)) from A2 where City = 'Cairo';"
   ]
  },
  {
   "cell_type": "code",
   "execution_count": null,
   "metadata": {},
   "outputs": [],
   "source": [
    "# (h). The total rainfall for each season.\n",
    "# select  Season, sum(Rainfall(mm)) from A2 group by Season;"
   ]
  },
  {
   "cell_type": "markdown",
   "metadata": {},
   "source": [
    "# Question 10:"
   ]
  },
  {
   "cell_type": "code",
   "execution_count": 39,
   "metadata": {},
   "outputs": [
    {
     "name": "stdout",
     "output_type": "stream",
     "text": [
      "['THE', 'QUICK', 'BROWN', 'FOX', 'JUMPS', 'OVER', 'THE', 'LAZY', 'DOG']\n"
     ]
    }
   ],
   "source": [
    "# (a). \n",
    "words = ['The','quick','brown','fox','jumps','over','the','lazy','dog']\n",
    "newwords1 = [word.upper() for word in words]\n",
    "print (newwords1)"
   ]
  },
  {
   "cell_type": "code",
   "execution_count": 38,
   "metadata": {},
   "outputs": [
    {
     "name": "stdout",
     "output_type": "stream",
     "text": [
      "['the', 'quick', 'brown', 'fox', 'jumps', 'over', 'the', 'lazy', 'dog']\n"
     ]
    }
   ],
   "source": [
    "# (b). \n",
    "newwords2 = [word.lower() for word in words]\n",
    "print (newwords2)"
   ]
  },
  {
   "cell_type": "code",
   "execution_count": 37,
   "metadata": {},
   "outputs": [
    {
     "name": "stdout",
     "output_type": "stream",
     "text": [
      "[3, 5, 5, 3, 5, 4, 3, 4, 3]\n"
     ]
    }
   ],
   "source": [
    "# (c). \n",
    "newwords3 = [len(word) for word in words]\n",
    "print (newwords3)"
   ]
  },
  {
   "cell_type": "code",
   "execution_count": 70,
   "metadata": {},
   "outputs": [
    {
     "name": "stdout",
     "output_type": "stream",
     "text": [
      "[('THE', 'the', 3), ('QUICK', 'quick', 5), ('BROWN', 'brown', 5), ('FOX', 'fox', 3), ('JUMPS', 'jumps', 5), ('OVER', 'over', 4), ('THE', 'the', 3), ('LAZY', 'lazy', 4), ('DOG', 'dog', 3)]\n"
     ]
    }
   ],
   "source": [
    "# (d). \n",
    "newwords4= [(word.upper(),word.lower(),len(word)) for word in words]\n",
    "print (newwords4)"
   ]
  },
  {
   "cell_type": "code",
   "execution_count": 72,
   "metadata": {},
   "outputs": [
    {
     "name": "stdout",
     "output_type": "stream",
     "text": [
      "['quick', 'brown', 'jumps', 'over', 'lazy']\n"
     ]
    }
   ],
   "source": [
    "# (e).\n",
    "newwords5 = [word for word in words if len(word)>= 4]\n",
    "print(newwords5)"
   ]
  }
 ],
 "metadata": {
  "kernelspec": {
   "display_name": "Python 3",
   "language": "python",
   "name": "python3"
  },
  "language_info": {
   "codemirror_mode": {
    "name": "ipython",
    "version": 3
   },
   "file_extension": ".py",
   "mimetype": "text/x-python",
   "name": "python",
   "nbconvert_exporter": "python",
   "pygments_lexer": "ipython3",
   "version": "3.7.6"
  }
 },
 "nbformat": 4,
 "nbformat_minor": 4
}
